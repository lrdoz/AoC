{
 "cells": [
  {
   "cell_type": "code",
   "execution_count": 1,
   "metadata": {},
   "outputs": [],
   "source": [
    "my_input = open(\"./inputs/input5.txt\")\n",
    "lines = map(parse, readlines(my_input));"
   ]
  },
  {
   "cell_type": "code",
   "execution_count": 2,
   "metadata": {},
   "outputs": [
    {
     "data": {
      "text/plain": [
       "trampoline (generic function with 1 method)"
      ]
     },
     "execution_count": 2,
     "metadata": {},
     "output_type": "execute_result"
    }
   ],
   "source": [
    "function trampoline(offsets)\n",
    "    i = 1\n",
    "    jump = 0\n",
    "    elem = 0\n",
    "    while true\n",
    "        try \n",
    "            elem = offsets[i]\n",
    "        catch\n",
    "            break\n",
    "        end\n",
    "        offsets[i] += 1\n",
    "        jump += 1\n",
    "        i += elem\n",
    "    end\n",
    "    return jump\n",
    "end"
   ]
  },
  {
   "cell_type": "code",
   "execution_count": 3,
   "metadata": {},
   "outputs": [
    {
     "data": {
      "text/plain": [
       "360603"
      ]
     },
     "execution_count": 3,
     "metadata": {},
     "output_type": "execute_result"
    }
   ],
   "source": [
    "trampoline(lines)"
   ]
  },
  {
   "cell_type": "code",
   "execution_count": null,
   "metadata": {},
   "outputs": [],
   "source": [
    "function trampoline2(offsets)\n",
    "    i = 1\n",
    "    jump = 0\n",
    "    elem = 0\n",
    "    while true\n",
    "        try \n",
    "            elem = offsets[i]\n",
    "        catch\n",
    "            break\n",
    "        end\n",
    "        offsets[i] += elem >= 3 ? -1 :1\n",
    "        jump += 1\n",
    "        i += elem\n",
    "    end\n",
    "    return jump\n",
    "end"
   ]
  },
  {
   "cell_type": "code",
   "execution_count": null,
   "metadata": {},
   "outputs": [],
   "source": [
    "trampoline2(lines)"
   ]
  },
  {
   "cell_type": "code",
   "execution_count": null,
   "metadata": {
    "collapsed": true
   },
   "outputs": [],
   "source": []
  }
 ],
 "metadata": {
  "kernelspec": {
   "display_name": "Julia 0.6.1",
   "language": "julia",
   "name": "julia-0.6"
  },
  "language_info": {
   "file_extension": ".jl",
   "mimetype": "application/julia",
   "name": "julia",
   "version": "0.6.1"
  }
 },
 "nbformat": 4,
 "nbformat_minor": 2
}
